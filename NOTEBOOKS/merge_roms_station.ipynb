{
 "cells": [
  {
   "cell_type": "markdown",
   "metadata": {},
   "source": [
    "# Merge station data from the 4D var and verification runs"
   ]
  },
  {
   "cell_type": "code",
   "execution_count": 61,
   "metadata": {},
   "outputs": [
    {
     "data": {
      "text/plain": [
       "<dask.config.set at 0x2b11e68d7490>"
      ]
     },
     "execution_count": 61,
     "metadata": {},
     "output_type": "execute_result"
    }
   ],
   "source": [
    "import dask\n",
    "dask.config.set(scheduler='processes')\n"
   ]
  },
  {
   "cell_type": "code",
   "execution_count": 22,
   "metadata": {},
   "outputs": [],
   "source": [
    "import numpy as np \n",
    "import matplotlib.pyplot as plt\n",
    "import xarray as xr\n",
    "import pandas as pd\n",
    "from datetime import datetime\n",
    "from scipy.interpolate import PchipInterpolator\n",
    "\n",
    "from glob import glob\n",
    "from matplotlib import rcParams\n",
    "from soda.dataio.roms.romsio import  get_depth\n",
    "from soda.utils.myproj import MyProj\n",
    "from mycurrents import oceanmooring as om\n",
    "#rcParams['font.family'] = 'sans-serif'\n",
    "#rcParams['font.sans-serif'] = ['Bitstream Vera Sans']\n",
    "#rcParams['font.serif'] = ['Bitstream Vera Sans']\n",
    "rcParams[\"font.size\"] = \"12\"\n",
    "rcParams['axes.labelsize']='medium'"
   ]
  },
  {
   "cell_type": "code",
   "execution_count": 3,
   "metadata": {},
   "outputs": [
    {
     "name": "stdout",
     "output_type": "stream",
     "text": [
      "archive_fwd0_6241.nc\t    fwd0_6293.nc      obs_6349.nc\r\n",
      "archive_fwd0_6245.nc\t    fwd0_6297.nc      obs_6353.nc\r\n",
      "archive_fwd0_6249.nc\t    fwd0_6301.nc      obs_6357.nc\r\n",
      "archive_fwd0_6253.nc\t    fwd0_6305.nc      qck_6241.nc\r\n",
      "archive_fwd0_6257.nc\t    fwd0_6309.nc      qck_6245.nc\r\n",
      "archive_fwd0_6261.nc\t    fwd0_6313.nc      qck_6249.nc\r\n",
      "archive_fwd0_6265.nc\t    fwd0_6317.nc      qck_6253.nc\r\n",
      "archive_fwd0_6269.nc\t    fwd0_6321.nc      qck_6257.nc\r\n",
      "archive_fwd0_6273.nc\t    fwd0_6325.nc      qck_6261.nc\r\n",
      "archive_fwd0_6277.nc\t    fwd0_6329.nc      qck_6265.nc\r\n",
      "archive_fwd0_6281.nc\t    fwd0_6333.nc      qck_6269.nc\r\n",
      "archive_fwd0_6285.nc\t    fwd0_6337.nc      qck_6273.nc\r\n",
      "archive_fwd0_6289.nc\t    fwd0_6341.nc      qck_6277.nc\r\n",
      "archive_fwd0_6293.nc\t    fwd0_6345.nc      qck_6281.nc\r\n",
      "archive_fwd0_6297.nc\t    fwd0_6349.nc      qck_6285.nc\r\n",
      "archive_fwd0_6301.nc\t    fwd0_6353.nc      qck_6289.nc\r\n",
      "archive_fwd0_6305.nc\t    fwd0_6357.nc      qck_6293.nc\r\n",
      "archive_fwd0_6309.nc\t    fwd1_6273.nc      qck_6297.nc\r\n",
      "archive_fwd0_6313.nc\t    fwd1_6277.nc      qck_6301.nc\r\n",
      "archive_fwd0_6317.nc\t    fwd1_6281.nc      qck_6305.nc\r\n",
      "archive_fwd0_6321.nc\t    fwd1_6285.nc      qck_6309.nc\r\n",
      "archive_fwd0_6325.nc\t    fwd1_6289.nc      qck_6313.nc\r\n",
      "archive_fwd0_6329.nc\t    fwd1_6293.nc      qck_6317.nc\r\n",
      "archive_fwd0_6333.nc\t    fwd1_6297.nc      qck_6321.nc\r\n",
      "archive_fwd0_6337.nc\t    fwd1_6301.nc      qck_6325.nc\r\n",
      "archive_fwd0_6341.nc\t    fwd1_6305.nc      qck_6329.nc\r\n",
      "archive_fwd0_6345.nc\t    fwd1_6309.nc      qck_6333.nc\r\n",
      "archive_fwd0_6349.nc\t    fwd1_6313.nc      qck_6337.nc\r\n",
      "archive_fwd0_6353.nc\t    fwd1_6317.nc      qck_6341.nc\r\n",
      "archive_fwd0_6357.nc\t    fwd1_6321.nc      qck_6345.nc\r\n",
      "archive_fwd2_6241.nc\t    fwd1_6325.nc      qck_6349.nc\r\n",
      "archive_fwd2_6245.nc\t    fwd1_6329.nc      qck_6353.nc\r\n",
      "archive_fwd2_6249.nc\t    fwd1_6333.nc      qck_6357.nc\r\n",
      "archive_fwd2_6253.nc\t    fwd1_6337.nc      qck_ver_6241.nc\r\n",
      "archive_fwd2_6257.nc\t    fwd1_6341.nc      qck_ver_6245.nc\r\n",
      "archive_fwd2_6261.nc\t    fwd1_6345.nc      qck_ver_6249.nc\r\n",
      "archive_fwd2_6265.nc\t    fwd1_6349.nc      qck_ver_6253.nc\r\n",
      "archive_fwd2_6269.nc\t    fwd1_6353.nc      qck_ver_6257.nc\r\n",
      "archive_fwd2_6273.nc\t    fwd1_6357.nc      qck_ver_6261.nc\r\n",
      "archive_fwd2_6277.nc\t    fwd2_6241.nc      qck_ver_6265.nc\r\n",
      "archive_fwd2_6281.nc\t    fwd2_6245.nc      qck_ver_6269.nc\r\n",
      "archive_fwd2_6285.nc\t    fwd2_6249.nc      qck_ver_6273.nc\r\n",
      "archive_fwd2_6289.nc\t    fwd2_6253.nc      qck_ver_6277.nc\r\n",
      "archive_fwd2_6293.nc\t    fwd2_6257.nc      qck_ver_6281.nc\r\n",
      "archive_fwd2_6297.nc\t    fwd2_6261.nc      qck_ver_6285.nc\r\n",
      "archive_fwd2_6301.nc\t    fwd2_6265.nc      qck_ver_6289.nc\r\n",
      "archive_fwd2_6305.nc\t    fwd2_6269.nc      qck_ver_6293.nc\r\n",
      "archive_fwd2_6309.nc\t    fwd2_6273.nc      qck_ver_6297.nc\r\n",
      "archive_fwd2_6313.nc\t    fwd2_6277.nc      qck_ver_6301.nc\r\n",
      "archive_fwd2_6317.nc\t    fwd2_6281.nc      qck_ver_6305.nc\r\n",
      "archive_fwd2_6321.nc\t    fwd2_6285.nc      qck_ver_6309.nc\r\n",
      "archive_fwd2_6325.nc\t    fwd2_6289.nc      qck_ver_6313.nc\r\n",
      "archive_fwd2_6329.nc\t    fwd2_6293.nc      qck_ver_6317.nc\r\n",
      "archive_fwd2_6333.nc\t    fwd2_6297.nc      qck_ver_6321.nc\r\n",
      "archive_fwd2_6337.nc\t    fwd2_6301.nc      qck_ver_6325.nc\r\n",
      "archive_fwd2_6341.nc\t    fwd2_6305.nc      qck_ver_6329.nc\r\n",
      "archive_fwd2_6345.nc\t    fwd2_6309.nc      qck_ver_6333.nc\r\n",
      "archive_fwd2_6349.nc\t    fwd2_6313.nc      qck_ver_6337.nc\r\n",
      "archive_fwd2_6353.nc\t    fwd2_6317.nc      qck_ver_6341.nc\r\n",
      "archive_fwd2_6357.nc\t    fwd2_6321.nc      qck_ver_6345.nc\r\n",
      "archive_qck_6241.nc\t    fwd2_6325.nc      qck_ver_6349.nc\r\n",
      "archive_qck_6245.nc\t    fwd2_6329.nc      qck_ver_6353.nc\r\n",
      "archive_qck_6249.nc\t    fwd2_6333.nc      qck_ver_6357.nc\r\n",
      "archive_qck_6253.nc\t    fwd2_6337.nc      rst_6273.nc\r\n",
      "archive_qck_6257.nc\t    fwd2_6341.nc      rst_6277.nc\r\n",
      "archive_qck_6261.nc\t    fwd2_6345.nc      rst_6281.nc\r\n",
      "archive_qck_6265.nc\t    fwd2_6349.nc      rst_6285.nc\r\n",
      "archive_qck_6269.nc\t    fwd2_6353.nc      rst_6289.nc\r\n",
      "archive_qck_6273.nc\t    fwd2_6357.nc      rst_6293.nc\r\n",
      "archive_qck_6277.nc\t    fwd_ver_6353.nc   rst_6297.nc\r\n",
      "archive_qck_6281.nc\t    fwd_ver_6357.nc   rst_6301.nc\r\n",
      "archive_qck_6285.nc\t    his_6241.nc       rst_6305.nc\r\n",
      "archive_qck_6289.nc\t    log_6273.txt      rst_6309.nc\r\n",
      "archive_qck_6293.nc\t    log_6277.txt      rst_6313.nc\r\n",
      "archive_qck_6297.nc\t    log_6281.txt      rst_6317.nc\r\n",
      "archive_qck_6301.nc\t    log_6285.txt      rst_6321.nc\r\n",
      "archive_qck_6305.nc\t    log_6289.txt      rst_6325.nc\r\n",
      "archive_qck_6309.nc\t    log_6293.txt      rst_6329.nc\r\n",
      "archive_qck_6313.nc\t    log_6297.txt      rst_6333.nc\r\n",
      "archive_qck_6317.nc\t    log_6301.txt      rst_6337.nc\r\n",
      "archive_qck_6321.nc\t    log_6305.txt      rst_6341.nc\r\n",
      "archive_qck_6325.nc\t    log_6309.txt      rst_6345.nc\r\n",
      "archive_qck_6329.nc\t    log_6313.txt      rst_6349.nc\r\n",
      "archive_qck_6333.nc\t    log_6317.txt      rst_6353.nc\r\n",
      "archive_qck_6337.nc\t    log_6321.txt      rst_6357.nc\r\n",
      "archive_qck_6341.nc\t    log_6325.txt      sta_6241.nc\r\n",
      "archive_qck_6345.nc\t    log_6329.txt      sta_6253.nc\r\n",
      "archive_qck_6349.nc\t    log_6333.txt      sta_6257.nc\r\n",
      "archive_qck_6353.nc\t    log_6337.txt      sta_6261.nc\r\n",
      "archive_qck_6357.nc\t    log_6341.txt      sta_6265.nc\r\n",
      "archive_qck_ver_6241.nc     log_6345.txt      sta_6269.nc\r\n",
      "archive_qck_ver_6245.nc     log_6349.txt      sta_6273.nc\r\n",
      "archive_qck_ver_6249.nc     log_6353.txt      sta_6277.nc\r\n",
      "archive_qck_ver_6253.nc     log_6357.txt      sta_6281.nc\r\n",
      "archive_qck_ver_6257.nc     log_ver_6353.txt  sta_6285.nc\r\n",
      "archive_qck_ver_6261.nc     log_ver_6357.txt  sta_6289.nc\r\n",
      "archive_qck_ver_6265.nc     mod_6273.nc       sta_6293.nc\r\n",
      "archive_qck_ver_6269.nc     mod_6277.nc       sta_6297.nc\r\n",
      "archive_qck_ver_6273.nc     mod_6281.nc       sta_6301.nc\r\n",
      "archive_qck_ver_6277.nc     mod_6285.nc       sta_6305.nc\r\n",
      "archive_qck_ver_6281.nc     mod_6289.nc       sta_6309.nc\r\n",
      "archive_qck_ver_6285.nc     mod_6293.nc       sta_6313.nc\r\n",
      "archive_qck_ver_6289.nc     mod_6297.nc       sta_6317.nc\r\n",
      "archive_qck_ver_6293.nc     mod_6301.nc       sta_6321.nc\r\n",
      "archive_qck_ver_6297.nc     mod_6305.nc       sta_6325.nc\r\n",
      "archive_qck_ver_6301.nc     mod_6309.nc       sta_6329.nc\r\n",
      "archive_qck_ver_6305.nc     mod_6313.nc       sta_6333.nc\r\n",
      "archive_qck_ver_6309.nc     mod_6317.nc       sta_6337.nc\r\n",
      "archive_qck_ver_6313.nc     mod_6321.nc       sta_6341.nc\r\n",
      "archive_qck_ver_6317.nc     mod_6325.nc       sta_6345.nc\r\n",
      "archive_qck_ver_6321.nc     mod_6329.nc       sta_6349.nc\r\n",
      "archive_qck_ver_6325.nc     mod_6333.nc       sta_6353.nc\r\n",
      "archive_qck_ver_6329.nc     mod_6337.nc       sta_6357.nc\r\n",
      "archive_qck_ver_6333.nc     mod_6341.nc       sta_ver_6253.nc\r\n",
      "archive_qck_ver_6337.nc     mod_6345.nc       sta_ver_6257.nc\r\n",
      "archive_qck_ver_6341.nc     mod_6349.nc       sta_ver_6261.nc\r\n",
      "archive_qck_ver_6345.nc     mod_6353.nc       sta_ver_6265.nc\r\n",
      "archive_qck_ver_6349.nc     mod_6357.nc       sta_ver_6269.nc\r\n",
      "archive_qck_ver_6353.nc     mod_ver_6353.nc   sta_ver_6273.nc\r\n",
      "archive_qck_ver_6357.nc     mod_ver_6357.nc   sta_ver_6277.nc\r\n",
      "compress_precision_qck.sh   obs_6273.nc       sta_ver_6281.nc\r\n",
      "compress_precision_qck.sh~  obs_6277.nc       sta_ver_6285.nc\r\n",
      "compress_precision.sh\t    obs_6281.nc       sta_ver_6289.nc\r\n",
      "compress_precision.sh~\t    obs_6285.nc       sta_ver_6293.nc\r\n",
      "faillog_6333.txt\t    obs_6289.nc       sta_ver_6297.nc\r\n",
      "faillog_6357.txt\t    obs_6293.nc       sta_ver_6301.nc\r\n",
      "fwd0_6241.nc\t\t    obs_6297.nc       sta_ver_6305.nc\r\n",
      "fwd0_6245.nc\t\t    obs_6301.nc       sta_ver_6309.nc\r\n",
      "fwd0_6249.nc\t\t    obs_6305.nc       sta_ver_6313.nc\r\n",
      "fwd0_6253.nc\t\t    obs_6309.nc       sta_ver_6317.nc\r\n",
      "fwd0_6257.nc\t\t    obs_6313.nc       sta_ver_6321.nc\r\n",
      "fwd0_6261.nc\t\t    obs_6317.nc       sta_ver_6325.nc\r\n",
      "fwd0_6265.nc\t\t    obs_6321.nc       sta_ver_6329.nc\r\n",
      "fwd0_6269.nc\t\t    obs_6325.nc       sta_ver_6333.nc\r\n",
      "fwd0_6273.nc\t\t    obs_6329.nc       sta_ver_6337.nc\r\n",
      "fwd0_6277.nc\t\t    obs_6333.nc       sta_ver_6341.nc\r\n",
      "fwd0_6281.nc\t\t    obs_6337.nc       sta_ver_6345.nc\r\n",
      "fwd0_6285.nc\t\t    obs_6341.nc       sta_ver_6353.nc\r\n",
      "fwd0_6289.nc\t\t    obs_6345.nc       sta_ver_6357.nc\r\n"
     ]
    }
   ],
   "source": [
    "!ls /scratch/pawsey0219/ijanekovic/ROMS_CYCLE/outputs/\n"
   ]
  },
  {
   "cell_type": "code",
   "execution_count": 53,
   "metadata": {},
   "outputs": [],
   "source": [
    "# Load a ROMS timeseries object\n",
    "def get_roms_station_da(romsfile, romsvar, xyin, cycle=0, ncycles=3):\n",
    "    dsroms = xr.open_dataset(romsfile)\n",
    "    #print(dsroms)\n",
    "    zroms = get_depth(dsroms.s_rho.values, dsroms.Cs_r.values, dsroms.hc.values, dsroms.h.values)# , \\\n",
    "    #         Vtransform=dsroms.Vtransform.values)\n",
    "    xroms = dsroms.lon_rho.values\n",
    "    yroms = dsroms.lat_rho.values\n",
    "    \n",
    "    nt = dsroms.ocean_time.size//ncycles\n",
    "\n",
    "    # Get the point\n",
    "    dist = np.abs( (xyin[0]-xroms) + 1j*(xyin[1]-yroms))\n",
    "    idx = np.argwhere(dist==dist.min())[0,0]\n",
    "    xyin, xroms[idx], yroms[idx], zroms[:,idx]\n",
    "    \n",
    "    t0 = cycle*nt\n",
    "    t1 = t0 + nt\n",
    "\n",
    "    data = dsroms[romsvar][t0:t1,idx,:].values\n",
    "    #print(zroms[...].shape, data.shape)\n",
    "    #print(zroms.ravel())\n",
    "\n",
    "    #Fi = interp1d(zroms[...,idx].squeeze(), data.squeeze(), axis=1, fill_value='extrapolate')\n",
    "    \n",
    "    #return om.OceanMooring(dsroms.ocean_time.values[t0:t1], Fi(zin), zin)\n",
    "    return om.OceanMooring(dsroms.ocean_time.values[t0:t1], data.squeeze(), zroms[...,idx].squeeze())\n",
    "\n",
    "def get_roms_station(romsfile, romsvar, xyin):\n",
    "    dsroms = xr.open_dataset(romsfile)\n",
    "    #print(dsroms)\n",
    "    zroms = get_depth(dsroms.s_rho.values, dsroms.Cs_r.values, dsroms.hc.values, dsroms.h.values)# , \\\n",
    "    #         Vtransform=dsroms.Vtransform.values)\n",
    "    xroms = dsroms.lon_rho.values\n",
    "    yroms = dsroms.lat_rho.values\n",
    "\n",
    "    # Get the point\n",
    "    dist = np.abs( (xyin[0]-xroms) + 1j*(xyin[1]-yroms))\n",
    "    idx = np.argwhere(dist==dist.min())[0,0]\n",
    "    #print(xyin, xroms[idx], yroms[idx], zroms[:,idx])\n",
    "\n",
    "    data = dsroms[romsvar][:,idx,:]\n",
    "    return om.OceanMooring(dsroms.ocean_time.values, data.squeeze(), zroms[...,idx].squeeze())\n",
    "    #print(zroms[...].shape, data.shape)\n",
    "    #print(zroms.ravel())\n",
    "    \n",
    "    #Fi = interp1d(zroms[...,idx].squeeze(), data.squeeze(), axis=1, fill_value='extrapolate')\n",
    "    \n",
    "    #return om.OceanMooring(dsroms.ocean_time.values, Fi(zin), zin)"
   ]
  },
  {
   "cell_type": "code",
   "execution_count": 54,
   "metadata": {},
   "outputs": [],
   "source": [
    "# Add the site location\n",
    "P = MyProj(None, utmzone=51,isnorth=False)\n",
    "\n",
    "lon_prelude, lat_prelude = P.to_ll(534322.7, 8475878.4)\n",
    "\n",
    "sites = pd.DataFrame(np.array([[lon_prelude, 123.3535, 123.2803, 123.346383,127.56335],\\\n",
    "            [lat_prelude, -13.7621, -13.8170, -13.75895, -9.8122]]).T,\n",
    "            index=['Prelude','NP250','DWR','KP150_phs2','ITFTIS'], columns=['lon','lat'])\n"
   ]
  },
  {
   "cell_type": "code",
   "execution_count": 55,
   "metadata": {},
   "outputs": [],
   "source": [
    "roms4dvarfiles = sorted(glob('/scratch/pawsey0219/ijanekovic/ROMS_CYCLE/outputs/sta_6*.nc'))\n",
    "romsfiles = sorted(glob('/scratch/pawsey0219/ijanekovic/ROMS_CYCLE/outputs/sta_ver_6*.nc'))"
   ]
  },
  {
   "cell_type": "code",
   "execution_count": 56,
   "metadata": {},
   "outputs": [
    {
     "data": {
      "text/plain": [
       "(['/scratch/pawsey0219/ijanekovic/ROMS_CYCLE/outputs/sta_ver_6253.nc',\n",
       "  '/scratch/pawsey0219/ijanekovic/ROMS_CYCLE/outputs/sta_ver_6257.nc'],\n",
       " ['/scratch/pawsey0219/ijanekovic/ROMS_CYCLE/outputs/sta_6241.nc',\n",
       "  '/scratch/pawsey0219/ijanekovic/ROMS_CYCLE/outputs/sta_6253.nc'])"
      ]
     },
     "execution_count": 56,
     "metadata": {},
     "output_type": "execute_result"
    }
   ],
   "source": [
    "romsfiles[0:2],roms4dvarfiles[0:2]"
   ]
  },
  {
   "cell_type": "code",
   "execution_count": 73,
   "metadata": {},
   "outputs": [
    {
     "name": "stdout",
     "output_type": "stream",
     "text": [
      "../DATA/ROMS_4DVAR_station_NP250.nc\n",
      "../DATA/ROMS_NL_station_NP250.nc\n"
     ]
    }
   ],
   "source": [
    "def load_station(loadfunc, roms4dvarfiles, sitename, varname):\n",
    "    xyin = [sites['lon'][sitename],sites['lat'][sitename] ]\n",
    "\n",
    "    ds = get_roms_station_da(roms4dvarfiles[0], varname, xyin)\n",
    "    for ff in roms4dvarfiles[1:]:\n",
    "        ds = ds.concat(get_roms_station_da(ff, varname, xyin))\n",
    "\n",
    "    #ds.long_name = 'Water Temperature'\n",
    "    #ds.units = 'degrees C'\n",
    "    ds.X = xyin[0]\n",
    "    ds.Y = xyin[1]\n",
    "    ds.StationName = sitename\n",
    "    return ds.to_xray()\n",
    "\n",
    "sitename = 'NP250'\n",
    "outfile = '../DATA/ROMS_4DVAR_station_{}.nc'.format(sitename)\n",
    "T = load_station(get_roms_station_da, roms4dvarfiles, sitename,'temp')\n",
    "u = load_station(get_roms_station_da, roms4dvarfiles, sitename,'u_eastward')\n",
    "v = load_station(get_roms_station_da, roms4dvarfiles, sitename,'v_northward')\n",
    "xr.Dataset({'temp':T,'u_eastward':u,'v_northward':v}).to_netcdf(outfile)\n",
    "print(outfile)\n",
    "\n",
    "outfile = '../DATA/ROMS_NL_station_{}.nc'.format(sitename)\n",
    "T = load_station(get_roms_station, romsfiles, sitename,'temp')\n",
    "u = load_station(get_roms_station, romsfiles, sitename,'u_eastward')\n",
    "v = load_station(get_roms_station, romsfiles, sitename,'v_northward')\n",
    "xr.Dataset({'temp':T,'u_eastward':u,'v_northward':v}).to_netcdf(outfile)\n",
    "print(outfile)"
   ]
  },
  {
   "cell_type": "code",
   "execution_count": 74,
   "metadata": {},
   "outputs": [
    {
     "name": "stdout",
     "output_type": "stream",
     "text": [
      "../DATA/ROMS_4DVAR_station_ITFTIS.nc\n",
      "../DATA/ROMS_NL_station_ITFTIS.nc\n"
     ]
    }
   ],
   "source": [
    "sitename = 'ITFTIS'\n",
    "outfile = '../DATA/ROMS_4DVAR_station_{}.nc'.format(sitename)\n",
    "T = load_station(get_roms_station_da, roms4dvarfiles, sitename,'temp')\n",
    "u = load_station(get_roms_station_da, roms4dvarfiles, sitename,'u_eastward')\n",
    "v = load_station(get_roms_station_da, roms4dvarfiles, sitename,'v_northward')\n",
    "xr.Dataset({'temp':T,'u_eastward':u,'v_northward':v}).to_netcdf(outfile)\n",
    "print(outfile)\n",
    "\n",
    "outfile = '../DATA/ROMS_NL_station_{}.nc'.format(sitename)\n",
    "T = load_station(get_roms_station, romsfiles, sitename,'temp')\n",
    "u = load_station(get_roms_station, romsfiles, sitename,'u_eastward')\n",
    "v = load_station(get_roms_station, romsfiles, sitename,'v_northward')\n",
    "xr.Dataset({'temp':T,'u_eastward':u,'v_northward':v}).to_netcdf(outfile)\n",
    "print(outfile)"
   ]
  },
  {
   "cell_type": "code",
   "execution_count": null,
   "metadata": {},
   "outputs": [],
   "source": []
  }
 ],
 "metadata": {
  "kernelspec": {
   "display_name": "Python 3",
   "language": "python",
   "name": "python3"
  },
  "language_info": {
   "codemirror_mode": {
    "name": "ipython",
    "version": 3
   },
   "file_extension": ".py",
   "mimetype": "text/x-python",
   "name": "python",
   "nbconvert_exporter": "python",
   "pygments_lexer": "ipython3",
   "version": "3.7.6"
  }
 },
 "nbformat": 4,
 "nbformat_minor": 4
}
