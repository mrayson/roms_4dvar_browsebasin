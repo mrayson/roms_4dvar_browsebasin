{
 "cells": [
  {
   "cell_type": "markdown",
   "metadata": {},
   "source": [
    "# Merge station data from the 4D var and verification runs"
   ]
  },
  {
   "cell_type": "code",
   "execution_count": 26,
   "metadata": {},
   "outputs": [
    {
     "data": {
      "text/plain": [
       "<dask.config.set at 0x2ba98f6dd590>"
      ]
     },
     "execution_count": 26,
     "metadata": {},
     "output_type": "execute_result"
    }
   ],
   "source": [
    "import dask\n",
    "dask.config.set(scheduler='processes')\n"
   ]
  },
  {
   "cell_type": "code",
   "execution_count": 27,
   "metadata": {},
   "outputs": [],
   "source": [
    "import numpy as np \n",
    "import matplotlib.pyplot as plt\n",
    "import xarray as xr\n",
    "import pandas as pd\n",
    "from datetime import datetime\n",
    "from scipy.interpolate import PchipInterpolator\n",
    "\n",
    "from glob import glob\n",
    "from matplotlib import rcParams\n",
    "from sfoda.roms.romsio import  get_depth\n",
    "from sfoda.utils.myproj import MyProj\n",
    "from mycurrents import oceanmooring as om\n",
    "#rcParams['font.family'] = 'sans-serif'\n",
    "#rcParams['font.sans-serif'] = ['Bitstream Vera Sans']\n",
    "#rcParams['font.serif'] = ['Bitstream Vera Sans']\n",
    "rcParams[\"font.size\"] = \"12\"\n",
    "rcParams['axes.labelsize']='medium'"
   ]
  },
  {
   "cell_type": "code",
   "execution_count": 28,
   "metadata": {},
   "outputs": [
    {
     "name": "stdout",
     "output_type": "stream",
     "text": [
      "sta_6241.nc  sta_6289.nc  sta_6337.nc\t   sta_ver_6265.nc  sta_ver_6313.nc\r\n",
      "sta_6245.nc  sta_6293.nc  sta_6341.nc\t   sta_ver_6269.nc  sta_ver_6317.nc\r\n",
      "sta_6249.nc  sta_6297.nc  sta_6345.nc\t   sta_ver_6273.nc  sta_ver_6321.nc\r\n",
      "sta_6253.nc  sta_6301.nc  sta_6349.nc\t   sta_ver_6277.nc  sta_ver_6325.nc\r\n",
      "sta_6257.nc  sta_6305.nc  sta_6353.nc\t   sta_ver_6281.nc  sta_ver_6329.nc\r\n",
      "sta_6261.nc  sta_6309.nc  sta_6357.nc\t   sta_ver_6285.nc  sta_ver_6333.nc\r\n",
      "sta_6265.nc  sta_6313.nc  sta_ver_6241.nc  sta_ver_6289.nc  sta_ver_6337.nc\r\n",
      "sta_6269.nc  sta_6317.nc  sta_ver_6245.nc  sta_ver_6293.nc  sta_ver_6341.nc\r\n",
      "sta_6273.nc  sta_6321.nc  sta_ver_6249.nc  sta_ver_6297.nc  sta_ver_6345.nc\r\n",
      "sta_6277.nc  sta_6325.nc  sta_ver_6253.nc  sta_ver_6301.nc  sta_ver_6349.nc\r\n",
      "sta_6281.nc  sta_6329.nc  sta_ver_6257.nc  sta_ver_6305.nc  sta_ver_6353.nc\r\n",
      "sta_6285.nc  sta_6333.nc  sta_ver_6261.nc  sta_ver_6309.nc  sta_ver_6357.nc\r\n"
     ]
    }
   ],
   "source": [
    "# !ls /scratch/pawsey0219/ijanekovic/ROMS_CYCLE/outputs/verification\n",
    "# ! ls ../ROMSdata/SUNTANS_NESTING\n",
    "! ls ../ROMSdata/4DVAR_STA/"
   ]
  },
  {
   "cell_type": "code",
   "execution_count": 29,
   "metadata": {},
   "outputs": [],
   "source": [
    "# Load a ROMS timeseries object\n",
    "def get_roms_station_da(romsfile, romsvar, xyin, cycle=0, ncycles=3):\n",
    "    dsroms = xr.open_dataset(romsfile)\n",
    "    #print(dsroms)\n",
    "    zroms = get_depth(dsroms.s_rho.values, dsroms.Cs_r.values, dsroms.hc.values, dsroms.h.values)# , \\\n",
    "    #         Vtransform=dsroms.Vtransform.values)\n",
    "    xroms = dsroms.lon_rho.values\n",
    "    yroms = dsroms.lat_rho.values\n",
    "    \n",
    "    nt = dsroms.ocean_time.size//ncycles\n",
    "\n",
    "    # Get the point\n",
    "    dist = np.abs( (xyin[0]-xroms) + 1j*(xyin[1]-yroms))\n",
    "    idx = np.argwhere(dist==dist.min())[0,0]\n",
    "    #print(xyin, xroms[idx], yroms[idx], dist[idx], zroms[:,idx])\n",
    "    #print(xyin[0], xroms[idx], xyin[1], yroms[idx], dist[idx])\n",
    "    \n",
    "    t0 = cycle*nt\n",
    "    t1 = t0 + nt\n",
    "\n",
    "    data = dsroms[romsvar][t0:t1,idx,:].values\n",
    "    #print(zroms[...].shape, data.shape)\n",
    "    #print(zroms.ravel())\n",
    "\n",
    "    #Fi = interp1d(zroms[...,idx].squeeze(), data.squeeze(), axis=1, fill_value='extrapolate')\n",
    "    \n",
    "    #return om.OceanMooring(dsroms.ocean_time.values[t0:t1], Fi(zin), zin)\n",
    "    return om.OceanMooring(dsroms.ocean_time.values[t0:t1], data.squeeze(), zroms[...,idx].squeeze())\n",
    "\n",
    "def get_roms_station(romsfile, romsvar, xyin):\n",
    "    dsroms = xr.open_dataset(romsfile)\n",
    "    #print(dsroms)\n",
    "    zroms = get_depth(dsroms.s_rho.values, dsroms.Cs_r.values, dsroms.hc.values, dsroms.h.values)# , \\\n",
    "    #         Vtransform=dsroms.Vtransform.values)\n",
    "    xroms = dsroms.lon_rho.values\n",
    "    yroms = dsroms.lat_rho.values\n",
    "\n",
    "    # Get the point\n",
    "    dist = np.abs( (xyin[0]-xroms) + 1j*(xyin[1]-yroms))\n",
    "    idx = np.argwhere(dist==dist.min())[0,0]\n",
    "    #print(xyin, xroms[idx], yroms[idx])\n",
    "\n",
    "    data = dsroms[romsvar][:,idx,:]\n",
    "    return om.OceanMooring(dsroms.ocean_time.values, data.squeeze(), zroms[...,idx].squeeze())\n",
    "    #print(zroms[...].shape, data.shape)\n",
    "    #print(zroms.ravel())\n",
    "    \n",
    "    #Fi = interp1d(zroms[...,idx].squeeze(), data.squeeze(), axis=1, fill_value='extrapolate')\n",
    "    \n",
    "    #return om.OceanMooring(dsroms.ocean_time.values, Fi(zin), zin)"
   ]
  },
  {
   "cell_type": "code",
   "execution_count": 35,
   "metadata": {},
   "outputs": [],
   "source": [
    "# Add the site location\n",
    "P = MyProj(None, utmzone=51,isnorth=False)\n",
    "\n",
    "lon_prelude, lat_prelude = P.to_ll(534322.7, 8475878.4)\n",
    "\n",
    "sites = pd.DataFrame(np.array([[lon_prelude, 123.3535, 123.2803, 123.346383,127.56335, 123.0459],\\\n",
    "            [lat_prelude, -13.7621, -13.8170, -13.75895, -9.8122, -14.2426]]).T,\n",
    "            index=['Prelude','NP250','DWR','KP150_phs2','ITFTIS','BRB200'], columns=['lon','lat'])\n"
   ]
  },
  {
   "cell_type": "code",
   "execution_count": 31,
   "metadata": {},
   "outputs": [],
   "source": [
    "# romsdir= '/scratch/pawsey0219/ijanekovic/ROMS_CYCLE/outputs/'\n",
    "romsdir = '../ROMSdata/4DVAR_STA/'\n",
    "roms4dvarfiles = sorted(glob('{}/sta_6*.nc'.format(romsdir)))\n",
    "romsfiles = sorted(glob('{}/sta_ver_6*.nc'.format(romsdir)))"
   ]
  },
  {
   "cell_type": "code",
   "execution_count": 32,
   "metadata": {},
   "outputs": [
    {
     "data": {
      "text/plain": [
       "(['../ROMSdata/4DVAR_STA/sta_ver_6241.nc',\n",
       "  '../ROMSdata/4DVAR_STA/sta_ver_6245.nc'],\n",
       " ['../ROMSdata/4DVAR_STA/sta_6241.nc', '../ROMSdata/4DVAR_STA/sta_6245.nc'])"
      ]
     },
     "execution_count": 32,
     "metadata": {},
     "output_type": "execute_result"
    }
   ],
   "source": [
    "romsfiles[0:2],roms4dvarfiles[0:2]"
   ]
  },
  {
   "cell_type": "code",
   "execution_count": 33,
   "metadata": {},
   "outputs": [],
   "source": [
    "def load_station(loadfunc, roms4dvarfiles, sitename, varname):\n",
    "    xyin = [sites['lon'][sitename],sites['lat'][sitename] ]\n",
    "\n",
    "    ds = loadfunc(roms4dvarfiles[0], varname, xyin)\n",
    "    for ff in roms4dvarfiles[1:]:\n",
    "        ds = ds.concat(loadfunc(ff, varname, xyin))\n",
    "\n",
    "    #ds.long_name = 'Water Temperature'\n",
    "    #ds.units = 'degrees C'\n",
    "    ds.X = xyin[0]\n",
    "    ds.Y = xyin[1]\n",
    "    ds.StationName = sitename\n",
    "    return ds.to_xray()"
   ]
  },
  {
   "cell_type": "code",
   "execution_count": 22,
   "metadata": {},
   "outputs": [
    {
     "name": "stdout",
     "output_type": "stream",
     "text": [
      "../DATA/ROMS_4DVAR_station_NP250_v3.nc\n",
      "../DATA/ROMS_NL_station_NP250_v3.nc\n"
     ]
    }
   ],
   "source": [
    "sitename = 'NP250'\n",
    "outfile = '../DATA/ROMS_4DVAR_station_{}_v3.nc'.format(sitename)\n",
    "T = load_station(get_roms_station_da, roms4dvarfiles, sitename,'temp')\n",
    "u = load_station(get_roms_station_da, roms4dvarfiles, sitename,'u_eastward')\n",
    "v = load_station(get_roms_station_da, roms4dvarfiles, sitename,'v_northward')\n",
    "xr.Dataset({'temp':T,'u_eastward':u,'v_northward':v}).to_netcdf(outfile)\n",
    "print(outfile)\n",
    "\n",
    "outfile = '../DATA/ROMS_NL_station_{}_v3.nc'.format(sitename)\n",
    "T = load_station(get_roms_station, romsfiles, sitename,'temp')\n",
    "u = load_station(get_roms_station, romsfiles, sitename,'u_eastward')\n",
    "v = load_station(get_roms_station, romsfiles, sitename,'v_northward')\n",
    "xr.Dataset({'temp':T,'u_eastward':u,'v_northward':v}).to_netcdf(outfile)\n",
    "print(outfile)"
   ]
  },
  {
   "cell_type": "code",
   "execution_count": 23,
   "metadata": {},
   "outputs": [
    {
     "data": {
      "text/plain": [
       "[<matplotlib.lines.Line2D at 0x2ba98ec2d490>]"
      ]
     },
     "execution_count": 23,
     "metadata": {},
     "output_type": "execute_result"
    },
    {
     "data": {
      "image/png": "[encoded data removed]",
      "text/plain": [
       "<Figure size 432x288 with 1 Axes>"
      ]
     },
     "metadata": {
      "needs_background": "light"
     },
     "output_type": "display_data"
    }
   ],
   "source": [
    "# Check the nonlinear data\n",
    "plt.figure()\n",
    "u[0,:].plot()"
   ]
  },
  {
   "cell_type": "code",
   "execution_count": 24,
   "metadata": {},
   "outputs": [
    {
     "name": "stdout",
     "output_type": "stream",
     "text": [
      "../DATA/ROMS_4DVAR_station_ITFTIS_v3.nc\n",
      "../DATA/ROMS_NL_station_ITFTIS_v3.nc\n"
     ]
    }
   ],
   "source": [
    "sitename = 'ITFTIS'\n",
    "outfile = '../DATA/ROMS_4DVAR_station_{}_v3.nc'.format(sitename)\n",
    "T = load_station(get_roms_station_da, roms4dvarfiles, sitename,'temp')\n",
    "u = load_station(get_roms_station_da, roms4dvarfiles, sitename,'u_eastward')\n",
    "v = load_station(get_roms_station_da, roms4dvarfiles, sitename,'v_northward')\n",
    "xr.Dataset({'temp':T,'u_eastward':u,'v_northward':v}).to_netcdf(outfile)\n",
    "print(outfile)\n",
    "\n",
    "outfile = '../DATA/ROMS_NL_station_{}_v3.nc'.format(sitename)\n",
    "T = load_station(get_roms_station, romsfiles, sitename,'temp')\n",
    "u = load_station(get_roms_station, romsfiles, sitename,'u_eastward')\n",
    "v = load_station(get_roms_station, romsfiles, sitename,'v_northward')\n",
    "xr.Dataset({'temp':T,'u_eastward':u,'v_northward':v}).to_netcdf(outfile)\n",
    "print(outfile)"
   ]
  },
  {
   "cell_type": "code",
   "execution_count": 25,
   "metadata": {},
   "outputs": [
    {
     "name": "stdout",
     "output_type": "stream",
     "text": [
      "../DATA/ROMS_4DVAR_station_BRB200_v3.nc\n",
      "../DATA/ROMS_NL_station_BRB200_v3.nc\n"
     ]
    }
   ],
   "source": [
    "sitename = 'BRB200'\n",
    "outfile = '../DATA/ROMS_4DVAR_station_{}_v3.nc'.format(sitename)\n",
    "T = load_station(get_roms_station_da, roms4dvarfiles, sitename,'temp')\n",
    "u = load_station(get_roms_station_da, roms4dvarfiles, sitename,'u_eastward')\n",
    "v = load_station(get_roms_station_da, roms4dvarfiles, sitename,'v_northward')\n",
    "xr.Dataset({'temp':T,'u_eastward':u,'v_northward':v}).to_netcdf(outfile)\n",
    "print(outfile)\n",
    "\n",
    "outfile = '../DATA/ROMS_NL_station_{}_v3.nc'.format(sitename)\n",
    "T = load_station(get_roms_station, romsfiles, sitename,'temp')\n",
    "u = load_station(get_roms_station, romsfiles, sitename,'u_eastward')\n",
    "v = load_station(get_roms_station, romsfiles, sitename,'v_northward')\n",
    "xr.Dataset({'temp':T,'u_eastward':u,'v_northward':v}).to_netcdf(outfile)\n",
    "print(outfile)"
   ]
  },
  {
   "cell_type": "code",
   "execution_count": null,
   "metadata": {},
   "outputs": [],
   "source": []
  }
 ],
 "metadata": {
  "kernelspec": {
   "display_name": "Python 3",
   "language": "python",
   "name": "python3"
  },
  "language_info": {
   "codemirror_mode": {
    "name": "ipython",
    "version": 3
   },
   "file_extension": ".py",
   "mimetype": "text/x-python",
   "name": "python",
   "nbconvert_exporter": "python",
   "pygments_lexer": "ipython3",
   "version": "3.7.6"
  }
 },
 "nbformat": 4,
 "nbformat_minor": 4
}
