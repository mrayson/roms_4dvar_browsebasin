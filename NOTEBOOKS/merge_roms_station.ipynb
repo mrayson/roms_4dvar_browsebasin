{
 "cells": [
  {
   "cell_type": "markdown",
   "metadata": {},
   "source": [
    "# Merge station data from the 4D var and verification runs"
   ]
  },
  {
   "cell_type": "code",
   "execution_count": 2,
   "metadata": {},
   "outputs": [
    {
     "data": {
      "text/plain": [
       "<dask.config.set at 0x2b82340fee10>"
      ]
     },
     "execution_count": 2,
     "metadata": {},
     "output_type": "execute_result"
    }
   ],
   "source": [
    "import dask\n",
    "dask.config.set(scheduler='processes')\n"
   ]
  },
  {
   "cell_type": "code",
   "execution_count": 3,
   "metadata": {},
   "outputs": [
    {
     "name": "stderr",
     "output_type": "stream",
     "text": [
      "\n",
      "Bad key \"backend.qt5\" on line 5 in\n",
      "/home/mrayson/.config/matplotlib/matplotlibrc.\n",
      "You probably need to get an updated matplotlibrc file from\n",
      "http://github.com/matplotlib/matplotlib/blob/master/matplotlibrc.template\n",
      "or from the matplotlib source distribution\n",
      "/home/mrayson/code/soda/soda/dataio/netcdfio.py:40: YAMLLoadWarning: calling yaml.load() without Loader=... is deprecated, as the default Loader is unsafe. Please read https://msg.pyyaml.org/load for full details.\n",
      "  ncmeta = yaml.load(f)\n"
     ]
    },
    {
     "name": "stdout",
     "output_type": "stream",
     "text": [
      "Warning - could not import octant package.\n"
     ]
    }
   ],
   "source": [
    "import numpy as np \n",
    "import matplotlib.pyplot as plt\n",
    "import xarray as xr\n",
    "import pandas as pd\n",
    "from datetime import datetime\n",
    "from scipy.interpolate import PchipInterpolator\n",
    "\n",
    "from glob import glob\n",
    "from matplotlib import rcParams\n",
    "from soda.dataio.roms.romsio import  get_depth\n",
    "from soda.utils.myproj import MyProj\n",
    "from mycurrents import oceanmooring as om\n",
    "#rcParams['font.family'] = 'sans-serif'\n",
    "#rcParams['font.sans-serif'] = ['Bitstream Vera Sans']\n",
    "#rcParams['font.serif'] = ['Bitstream Vera Sans']\n",
    "rcParams[\"font.size\"] = \"12\"\n",
    "rcParams['axes.labelsize']='medium'"
   ]
  },
  {
   "cell_type": "code",
   "execution_count": 16,
   "metadata": {},
   "outputs": [
    {
     "name": "stdout",
     "output_type": "stream",
     "text": [
      "archive_fwd_ver_6241.nc\t\t\t  log_ver_6277.txt  qck_ver_6261.nc\r\n",
      "archive_fwd_ver_6245.nc\t\t\t  log_ver_6281.txt  qck_ver_6265.nc\r\n",
      "archive_fwd_ver_6249.nc\t\t\t  log_ver_6285.txt  qck_ver_6269.nc\r\n",
      "archive_fwd_ver_6253.nc\t\t\t  log_ver_6289.txt  qck_ver_6273.nc\r\n",
      "archive_fwd_ver_6257.nc\t\t\t  log_ver_6293.txt  qck_ver_6277.nc\r\n",
      "archive_fwd_ver_6261.nc\t\t\t  log_ver_6297.txt  qck_ver_6281.nc\r\n",
      "archive_fwd_ver_6265.nc\t\t\t  log_ver_6301.txt  qck_ver_6285.nc\r\n",
      "archive_fwd_ver_6269.nc\t\t\t  log_ver_6305.txt  qck_ver_6289.nc\r\n",
      "archive_fwd_ver_6273.nc\t\t\t  log_ver_6309.txt  qck_ver_6293.nc\r\n",
      "archive_fwd_ver_6277.nc\t\t\t  log_ver_6313.txt  qck_ver_6297.nc\r\n",
      "archive_fwd_ver_6281.nc\t\t\t  log_ver_6317.txt  qck_ver_6301.nc\r\n",
      "archive_fwd_ver_6285.nc\t\t\t  log_ver_6321.txt  qck_ver_6305.nc\r\n",
      "archive_fwd_ver_6289.nc\t\t\t  log_ver_6325.txt  qck_ver_6309.nc\r\n",
      "archive_fwd_ver_6293.nc\t\t\t  log_ver_6329.txt  qck_ver_6313.nc\r\n",
      "archive_fwd_ver_6297.nc\t\t\t  log_ver_6333.txt  qck_ver_6317.nc\r\n",
      "archive_fwd_ver_6301.nc\t\t\t  log_ver_6337.txt  qck_ver_6321.nc\r\n",
      "archive_fwd_ver_6305.nc.pid3326.ncks.tmp  log_ver_6341.txt  qck_ver_6325.nc\r\n",
      "fwd_ver_6241.nc\t\t\t\t  log_ver_6345.txt  qck_ver_6329.nc\r\n",
      "fwd_ver_6245.nc\t\t\t\t  log_ver_6349.txt  qck_ver_6333.nc\r\n",
      "fwd_ver_6249.nc\t\t\t\t  log_ver_6353.txt  qck_ver_6337.nc\r\n",
      "fwd_ver_6253.nc\t\t\t\t  log_ver_6357.txt  qck_ver_6341.nc\r\n",
      "fwd_ver_6257.nc\t\t\t\t  mod_ver_6241.nc   qck_ver_6345.nc\r\n",
      "fwd_ver_6261.nc\t\t\t\t  mod_ver_6245.nc   qck_ver_6349.nc\r\n",
      "fwd_ver_6265.nc\t\t\t\t  mod_ver_6249.nc   qck_ver_6353.nc\r\n",
      "fwd_ver_6269.nc\t\t\t\t  mod_ver_6253.nc   qck_ver_6357.nc\r\n",
      "fwd_ver_6273.nc\t\t\t\t  mod_ver_6257.nc   sta_ver_6241.nc\r\n",
      "fwd_ver_6277.nc\t\t\t\t  mod_ver_6261.nc   sta_ver_6245.nc\r\n",
      "fwd_ver_6281.nc\t\t\t\t  mod_ver_6265.nc   sta_ver_6249.nc\r\n",
      "fwd_ver_6285.nc\t\t\t\t  mod_ver_6269.nc   sta_ver_6253.nc\r\n",
      "fwd_ver_6289.nc\t\t\t\t  mod_ver_6273.nc   sta_ver_6257.nc\r\n",
      "fwd_ver_6293.nc\t\t\t\t  mod_ver_6277.nc   sta_ver_6261.nc\r\n",
      "fwd_ver_6297.nc\t\t\t\t  mod_ver_6281.nc   sta_ver_6265.nc\r\n",
      "fwd_ver_6301.nc\t\t\t\t  mod_ver_6285.nc   sta_ver_6269.nc\r\n",
      "fwd_ver_6305.nc\t\t\t\t  mod_ver_6289.nc   sta_ver_6273.nc\r\n",
      "fwd_ver_6309.nc\t\t\t\t  mod_ver_6293.nc   sta_ver_6277.nc\r\n",
      "fwd_ver_6313.nc\t\t\t\t  mod_ver_6297.nc   sta_ver_6281.nc\r\n",
      "fwd_ver_6317.nc\t\t\t\t  mod_ver_6301.nc   sta_ver_6285.nc\r\n",
      "fwd_ver_6321.nc\t\t\t\t  mod_ver_6305.nc   sta_ver_6289.nc\r\n",
      "fwd_ver_6325.nc\t\t\t\t  mod_ver_6309.nc   sta_ver_6293.nc\r\n",
      "fwd_ver_6329.nc\t\t\t\t  mod_ver_6313.nc   sta_ver_6297.nc\r\n",
      "fwd_ver_6333.nc\t\t\t\t  mod_ver_6317.nc   sta_ver_6301.nc\r\n",
      "fwd_ver_6337.nc\t\t\t\t  mod_ver_6321.nc   sta_ver_6305.nc\r\n",
      "fwd_ver_6341.nc\t\t\t\t  mod_ver_6325.nc   sta_ver_6309.nc\r\n",
      "fwd_ver_6345.nc\t\t\t\t  mod_ver_6329.nc   sta_ver_6313.nc\r\n",
      "fwd_ver_6349.nc\t\t\t\t  mod_ver_6333.nc   sta_ver_6317.nc\r\n",
      "fwd_ver_6353.nc\t\t\t\t  mod_ver_6337.nc   sta_ver_6321.nc\r\n",
      "fwd_ver_6357.nc\t\t\t\t  mod_ver_6341.nc   sta_ver_6325.nc\r\n",
      "log_ver_6241.txt\t\t\t  mod_ver_6345.nc   sta_ver_6329.nc\r\n",
      "log_ver_6245.txt\t\t\t  mod_ver_6349.nc   sta_ver_6333.nc\r\n",
      "log_ver_6249.txt\t\t\t  mod_ver_6353.nc   sta_ver_6337.nc\r\n",
      "log_ver_6253.txt\t\t\t  mod_ver_6357.nc   sta_ver_6341.nc\r\n",
      "log_ver_6257.txt\t\t\t  qck_ver_6241.nc   sta_ver_6345.nc\r\n",
      "log_ver_6261.txt\t\t\t  qck_ver_6245.nc   sta_ver_6349.nc\r\n",
      "log_ver_6265.txt\t\t\t  qck_ver_6249.nc   sta_ver_6353.nc\r\n",
      "log_ver_6269.txt\t\t\t  qck_ver_6253.nc   sta_ver_6357.nc\r\n",
      "log_ver_6273.txt\t\t\t  qck_ver_6257.nc\r\n"
     ]
    }
   ],
   "source": [
    "!ls /scratch/pawsey0219/ijanekovic/ROMS_CYCLE/outputs/verification\n"
   ]
  },
  {
   "cell_type": "code",
   "execution_count": 24,
   "metadata": {},
   "outputs": [],
   "source": [
    "# Load a ROMS timeseries object\n",
    "def get_roms_station_da(romsfile, romsvar, xyin, cycle=0, ncycles=3):\n",
    "    dsroms = xr.open_dataset(romsfile)\n",
    "    #print(dsroms)\n",
    "    zroms = get_depth(dsroms.s_rho.values, dsroms.Cs_r.values, dsroms.hc.values, dsroms.h.values)# , \\\n",
    "    #         Vtransform=dsroms.Vtransform.values)\n",
    "    xroms = dsroms.lon_rho.values\n",
    "    yroms = dsroms.lat_rho.values\n",
    "    \n",
    "    nt = dsroms.ocean_time.size//ncycles\n",
    "\n",
    "    # Get the point\n",
    "    dist = np.abs( (xyin[0]-xroms) + 1j*(xyin[1]-yroms))\n",
    "    idx = np.argwhere(dist==dist.min())[0,0]\n",
    "    #print(xyin, xroms[idx], yroms[idx], dist[idx], zroms[:,idx])\n",
    "    print(xyin[0], xroms[idx], xyin[1], yroms[idx], dist[idx])\n",
    "    \n",
    "    t0 = cycle*nt\n",
    "    t1 = t0 + nt\n",
    "\n",
    "    data = dsroms[romsvar][t0:t1,idx,:].values\n",
    "    #print(zroms[...].shape, data.shape)\n",
    "    #print(zroms.ravel())\n",
    "\n",
    "    #Fi = interp1d(zroms[...,idx].squeeze(), data.squeeze(), axis=1, fill_value='extrapolate')\n",
    "    \n",
    "    #return om.OceanMooring(dsroms.ocean_time.values[t0:t1], Fi(zin), zin)\n",
    "    return om.OceanMooring(dsroms.ocean_time.values[t0:t1], data.squeeze(), zroms[...,idx].squeeze())\n",
    "\n",
    "def get_roms_station(romsfile, romsvar, xyin):\n",
    "    dsroms = xr.open_dataset(romsfile)\n",
    "    #print(dsroms)\n",
    "    zroms = get_depth(dsroms.s_rho.values, dsroms.Cs_r.values, dsroms.hc.values, dsroms.h.values)# , \\\n",
    "    #         Vtransform=dsroms.Vtransform.values)\n",
    "    xroms = dsroms.lon_rho.values\n",
    "    yroms = dsroms.lat_rho.values\n",
    "\n",
    "    # Get the point\n",
    "    dist = np.abs( (xyin[0]-xroms) + 1j*(xyin[1]-yroms))\n",
    "    idx = np.argwhere(dist==dist.min())[0,0]\n",
    "    #print(xyin, xroms[idx], yroms[idx])\n",
    "\n",
    "    data = dsroms[romsvar][:,idx,:]\n",
    "    return om.OceanMooring(dsroms.ocean_time.values, data.squeeze(), zroms[...,idx].squeeze())\n",
    "    #print(zroms[...].shape, data.shape)\n",
    "    #print(zroms.ravel())\n",
    "    \n",
    "    #Fi = interp1d(zroms[...,idx].squeeze(), data.squeeze(), axis=1, fill_value='extrapolate')\n",
    "    \n",
    "    #return om.OceanMooring(dsroms.ocean_time.values, Fi(zin), zin)"
   ]
  },
  {
   "cell_type": "code",
   "execution_count": 10,
   "metadata": {},
   "outputs": [],
   "source": [
    "# Add the site location\n",
    "P = MyProj(None, utmzone=51,isnorth=False)\n",
    "\n",
    "lon_prelude, lat_prelude = P.to_ll(534322.7, 8475878.4)\n",
    "\n",
    "sites = pd.DataFrame(np.array([[lon_prelude, 123.3535, 123.2803, 123.346383,127.56335, 123.0459],\\\n",
    "            [lat_prelude, -13.7621, -13.8170, -13.75895, -9.8122, -14.2426]]).T,\n",
    "            index=['Prelude','NP250','DWR','KP150_phs2','ITFTIS','BRB200'], columns=['lon','lat'])\n"
   ]
  },
  {
   "cell_type": "code",
   "execution_count": 17,
   "metadata": {},
   "outputs": [],
   "source": [
    "roms4dvarfiles = sorted(glob('/scratch/pawsey0219/ijanekovic/ROMS_CYCLE/outputs/sta_6*.nc'))\n",
    "romsfiles = sorted(glob('/scratch/pawsey0219/ijanekovic/ROMS_CYCLE/outputs/verification/sta_ver_6*.nc'))"
   ]
  },
  {
   "cell_type": "code",
   "execution_count": 18,
   "metadata": {},
   "outputs": [
    {
     "data": {
      "text/plain": [
       "(['/scratch/pawsey0219/ijanekovic/ROMS_CYCLE/outputs/verification/sta_ver_6241.nc',\n",
       "  '/scratch/pawsey0219/ijanekovic/ROMS_CYCLE/outputs/verification/sta_ver_6245.nc'],\n",
       " ['/scratch/pawsey0219/ijanekovic/ROMS_CYCLE/outputs/sta_6241.nc',\n",
       "  '/scratch/pawsey0219/ijanekovic/ROMS_CYCLE/outputs/sta_6253.nc'])"
      ]
     },
     "execution_count": 18,
     "metadata": {},
     "output_type": "execute_result"
    }
   ],
   "source": [
    "romsfiles[0:2],roms4dvarfiles[0:2]"
   ]
  },
  {
   "cell_type": "code",
   "execution_count": 19,
   "metadata": {},
   "outputs": [],
   "source": [
    "def load_station(loadfunc, roms4dvarfiles, sitename, varname):\n",
    "    xyin = [sites['lon'][sitename],sites['lat'][sitename] ]\n",
    "\n",
    "    ds = get_roms_station_da(roms4dvarfiles[0], varname, xyin)\n",
    "    for ff in roms4dvarfiles[1:]:\n",
    "        ds = ds.concat(get_roms_station_da(ff, varname, xyin))\n",
    "\n",
    "    #ds.long_name = 'Water Temperature'\n",
    "    #ds.units = 'degrees C'\n",
    "    ds.X = xyin[0]\n",
    "    ds.Y = xyin[1]\n",
    "    ds.StationName = sitename\n",
    "    return ds.to_xray()"
   ]
  },
  {
   "cell_type": "code",
   "execution_count": 73,
   "metadata": {},
   "outputs": [
    {
     "name": "stdout",
     "output_type": "stream",
     "text": [
      "../DATA/ROMS_4DVAR_station_NP250.nc\n",
      "../DATA/ROMS_NL_station_NP250.nc\n"
     ]
    }
   ],
   "source": [
    "sitename = 'NP250'\n",
    "outfile = '../DATA/ROMS_4DVAR_station_{}.nc'.format(sitename)\n",
    "T = load_station(get_roms_station_da, roms4dvarfiles, sitename,'temp')\n",
    "u = load_station(get_roms_station_da, roms4dvarfiles, sitename,'u_eastward')\n",
    "v = load_station(get_roms_station_da, roms4dvarfiles, sitename,'v_northward')\n",
    "xr.Dataset({'temp':T,'u_eastward':u,'v_northward':v}).to_netcdf(outfile)\n",
    "print(outfile)\n",
    "\n",
    "outfile = '../DATA/ROMS_NL_station_{}.nc'.format(sitename)\n",
    "T = load_station(get_roms_station, romsfiles, sitename,'temp')\n",
    "u = load_station(get_roms_station, romsfiles, sitename,'u_eastward')\n",
    "v = load_station(get_roms_station, romsfiles, sitename,'v_northward')\n",
    "xr.Dataset({'temp':T,'u_eastward':u,'v_northward':v}).to_netcdf(outfile)\n",
    "print(outfile)"
   ]
  },
  {
   "cell_type": "code",
   "execution_count": 74,
   "metadata": {},
   "outputs": [
    {
     "name": "stdout",
     "output_type": "stream",
     "text": [
      "../DATA/ROMS_4DVAR_station_ITFTIS.nc\n",
      "../DATA/ROMS_NL_station_ITFTIS.nc\n"
     ]
    }
   ],
   "source": [
    "sitename = 'ITFTIS'\n",
    "outfile = '../DATA/ROMS_4DVAR_station_{}.nc'.format(sitename)\n",
    "T = load_station(get_roms_station_da, roms4dvarfiles, sitename,'temp')\n",
    "u = load_station(get_roms_station_da, roms4dvarfiles, sitename,'u_eastward')\n",
    "v = load_station(get_roms_station_da, roms4dvarfiles, sitename,'v_northward')\n",
    "xr.Dataset({'temp':T,'u_eastward':u,'v_northward':v}).to_netcdf(outfile)\n",
    "print(outfile)\n",
    "\n",
    "outfile = '../DATA/ROMS_NL_station_{}.nc'.format(sitename)\n",
    "T = load_station(get_roms_station, romsfiles, sitename,'temp')\n",
    "u = load_station(get_roms_station, romsfiles, sitename,'u_eastward')\n",
    "v = load_station(get_roms_station, romsfiles, sitename,'v_northward')\n",
    "xr.Dataset({'temp':T,'u_eastward':u,'v_northward':v}).to_netcdf(outfile)\n",
    "print(outfile)"
   ]
  },
  {
   "cell_type": "code",
   "execution_count": 25,
   "metadata": {},
   "outputs": [
    {
     "name": "stdout",
     "output_type": "stream",
     "text": [
      "123.0459 123.04590214867058 -14.2426 -14.242603529598123 4.132172328165077e-06\n",
      "123.0459 123.04590214867058 -14.2426 -14.242603529598123 4.132172328165077e-06\n",
      "123.0459 123.04590214867058 -14.2426 -14.242603529598123 4.132172328165077e-06\n",
      "123.0459 123.04590214867058 -14.2426 -14.242603529598123 4.132172328165077e-06\n",
      "123.0459 123.04590214867058 -14.2426 -14.242603529598123 4.132172328165077e-06\n",
      "123.0459 123.04590214867058 -14.2426 -14.242603529598123 4.132172328165077e-06\n",
      "123.0459 123.04590214867058 -14.2426 -14.242603529598123 4.132172328165077e-06\n",
      "123.0459 123.04590214867058 -14.2426 -14.242603529598123 4.132172328165077e-06\n",
      "123.0459 123.04590214867058 -14.2426 -14.242603529598123 4.132172328165077e-06\n",
      "123.0459 123.04590214867058 -14.2426 -14.242603529598123 4.132172328165077e-06\n",
      "123.0459 123.04590214867058 -14.2426 -14.242603529598123 4.132172328165077e-06\n",
      "123.0459 123.04590214867058 -14.2426 -14.242603529598123 4.132172328165077e-06\n",
      "123.0459 123.04590214867058 -14.2426 -14.242603529598123 4.132172328165077e-06\n",
      "123.0459 123.04590214867058 -14.2426 -14.242603529598123 4.132172328165077e-06\n",
      "123.0459 123.04590214867058 -14.2426 -14.242603529598123 4.132172328165077e-06\n",
      "123.0459 123.04590214867058 -14.2426 -14.242603529598123 4.132172328165077e-06\n",
      "123.0459 123.04590214867058 -14.2426 -14.242603529598123 4.132172328165077e-06\n",
      "123.0459 123.04590214867058 -14.2426 -14.242603529598123 4.132172328165077e-06\n",
      "123.0459 123.04590214867058 -14.2426 -14.242603529598123 4.132172328165077e-06\n",
      "123.0459 123.04590214867058 -14.2426 -14.242603529598123 4.132172328165077e-06\n",
      "123.0459 123.04590214867058 -14.2426 -14.242603529598123 4.132172328165077e-06\n",
      "123.0459 123.04590214867058 -14.2426 -14.242603529598123 4.132172328165077e-06\n",
      "123.0459 123.04590214867058 -14.2426 -14.242603529598123 4.132172328165077e-06\n",
      "123.0459 123.04590214867058 -14.2426 -14.242603529598123 4.132172328165077e-06\n",
      "123.0459 123.04590214867058 -14.2426 -14.242603529598123 4.132172328165077e-06\n",
      "123.0459 123.04590214867058 -14.2426 -14.242603529598123 4.132172328165077e-06\n",
      "123.0459 123.04590214867058 -14.2426 -14.242603529598123 4.132172328165077e-06\n",
      "123.0459 123.04590214867058 -14.2426 -14.242603529598123 4.132172328165077e-06\n",
      "123.0459 123.04590214867058 -14.2426 -14.242603529598123 4.132172328165077e-06\n",
      "123.0459 123.04590214867058 -14.2426 -14.242603529598123 4.132172328165077e-06\n",
      "123.0459 123.04590214867058 -14.2426 -14.242603529598123 4.132172328165077e-06\n",
      "123.0459 123.04590214867058 -14.2426 -14.242603529598123 4.132172328165077e-06\n",
      "123.0459 123.04590214867058 -14.2426 -14.242603529598123 4.132172328165077e-06\n",
      "123.0459 123.04590214867058 -14.2426 -14.242603529598123 4.132172328165077e-06\n",
      "123.0459 123.04590214867058 -14.2426 -14.242603529598123 4.132172328165077e-06\n",
      "123.0459 123.04590214867058 -14.2426 -14.242603529598123 4.132172328165077e-06\n",
      "123.0459 123.04590214867058 -14.2426 -14.242603529598123 4.132172328165077e-06\n",
      "123.0459 123.04590214867058 -14.2426 -14.242603529598123 4.132172328165077e-06\n",
      "123.0459 123.04590214867058 -14.2426 -14.242603529598123 4.132172328165077e-06\n",
      "123.0459 123.04590214867058 -14.2426 -14.242603529598123 4.132172328165077e-06\n",
      "123.0459 123.04590214867058 -14.2426 -14.242603529598123 4.132172328165077e-06\n",
      "123.0459 123.04590214867058 -14.2426 -14.242603529598123 4.132172328165077e-06\n",
      "123.0459 123.04590214867058 -14.2426 -14.242603529598123 4.132172328165077e-06\n",
      "123.0459 123.04590214867058 -14.2426 -14.242603529598123 4.132172328165077e-06\n",
      "123.0459 123.04590214867058 -14.2426 -14.242603529598123 4.132172328165077e-06\n",
      "123.0459 123.04590214867058 -14.2426 -14.242603529598123 4.132172328165077e-06\n",
      "123.0459 123.04590214867058 -14.2426 -14.242603529598123 4.132172328165077e-06\n",
      "123.0459 123.04590214867058 -14.2426 -14.242603529598123 4.132172328165077e-06\n",
      "123.0459 123.04590214867058 -14.2426 -14.242603529598123 4.132172328165077e-06\n",
      "123.0459 123.04590214867058 -14.2426 -14.242603529598123 4.132172328165077e-06\n",
      "123.0459 123.04590214867058 -14.2426 -14.242603529598123 4.132172328165077e-06\n",
      "123.0459 123.04590214867058 -14.2426 -14.242603529598123 4.132172328165077e-06\n",
      "123.0459 123.04590214867058 -14.2426 -14.242603529598123 4.132172328165077e-06\n",
      "123.0459 123.04590214867058 -14.2426 -14.242603529598123 4.132172328165077e-06\n",
      "123.0459 123.04590214867058 -14.2426 -14.242603529598123 4.132172328165077e-06\n",
      "123.0459 123.04590214867058 -14.2426 -14.242603529598123 4.132172328165077e-06\n",
      "123.0459 123.04590214867058 -14.2426 -14.242603529598123 4.132172328165077e-06\n",
      "123.0459 123.04590214867058 -14.2426 -14.242603529598123 4.132172328165077e-06\n",
      "123.0459 123.04590214867058 -14.2426 -14.242603529598123 4.132172328165077e-06\n",
      "123.0459 123.04590214867058 -14.2426 -14.242603529598123 4.132172328165077e-06\n",
      "123.0459 123.04590214867058 -14.2426 -14.242603529598123 4.132172328165077e-06\n",
      "123.0459 123.04590214867058 -14.2426 -14.242603529598123 4.132172328165077e-06\n",
      "123.0459 123.04590214867058 -14.2426 -14.242603529598123 4.132172328165077e-06\n",
      "123.0459 123.04590214867058 -14.2426 -14.242603529598123 4.132172328165077e-06\n",
      "123.0459 123.04590214867058 -14.2426 -14.242603529598123 4.132172328165077e-06\n",
      "123.0459 123.04590214867058 -14.2426 -14.242603529598123 4.132172328165077e-06\n",
      "123.0459 123.04590214867058 -14.2426 -14.242603529598123 4.132172328165077e-06\n",
      "123.0459 123.04590214867058 -14.2426 -14.242603529598123 4.132172328165077e-06\n",
      "123.0459 123.04590214867058 -14.2426 -14.242603529598123 4.132172328165077e-06\n",
      "123.0459 123.04590214867058 -14.2426 -14.242603529598123 4.132172328165077e-06\n",
      "123.0459 123.04590214867058 -14.2426 -14.242603529598123 4.132172328165077e-06\n",
      "123.0459 123.04590214867058 -14.2426 -14.242603529598123 4.132172328165077e-06\n",
      "123.0459 123.04590214867058 -14.2426 -14.242603529598123 4.132172328165077e-06\n",
      "123.0459 123.04590214867058 -14.2426 -14.242603529598123 4.132172328165077e-06\n",
      "123.0459 123.04590214867058 -14.2426 -14.242603529598123 4.132172328165077e-06\n",
      "123.0459 123.04590214867058 -14.2426 -14.242603529598123 4.132172328165077e-06\n",
      "123.0459 123.04590214867058 -14.2426 -14.242603529598123 4.132172328165077e-06\n",
      "123.0459 123.04590214867058 -14.2426 -14.242603529598123 4.132172328165077e-06\n",
      "123.0459 123.04590214867058 -14.2426 -14.242603529598123 4.132172328165077e-06\n",
      "123.0459 123.04590214867058 -14.2426 -14.242603529598123 4.132172328165077e-06\n",
      "123.0459 123.04590214867058 -14.2426 -14.242603529598123 4.132172328165077e-06\n",
      "123.0459 123.04590214867058 -14.2426 -14.242603529598123 4.132172328165077e-06\n",
      "123.0459 123.04590214867058 -14.2426 -14.242603529598123 4.132172328165077e-06\n",
      "123.0459 123.04590214867058 -14.2426 -14.242603529598123 4.132172328165077e-06\n",
      "../DATA/ROMS_4DVAR_station_BRB200.nc\n",
      "123.0459 123.04590214867058 -14.2426 -14.242603529598123 4.132172328165077e-06\n",
      "123.0459 123.04590214867058 -14.2426 -14.242603529598123 4.132172328165077e-06\n",
      "123.0459 123.04590214867058 -14.2426 -14.242603529598123 4.132172328165077e-06\n",
      "123.0459 123.04590214867058 -14.2426 -14.242603529598123 4.132172328165077e-06\n",
      "123.0459 123.04590214867058 -14.2426 -14.242603529598123 4.132172328165077e-06\n",
      "123.0459 123.04590214867058 -14.2426 -14.242603529598123 4.132172328165077e-06\n",
      "123.0459 123.04590214867058 -14.2426 -14.242603529598123 4.132172328165077e-06\n",
      "123.0459 123.04590214867058 -14.2426 -14.242603529598123 4.132172328165077e-06\n",
      "123.0459 123.04590214867058 -14.2426 -14.242603529598123 4.132172328165077e-06\n",
      "123.0459 123.04590214867058 -14.2426 -14.242603529598123 4.132172328165077e-06\n",
      "123.0459 123.04590214867058 -14.2426 -14.242603529598123 4.132172328165077e-06\n",
      "123.0459 123.04590214867058 -14.2426 -14.242603529598123 4.132172328165077e-06\n",
      "123.0459 123.04590214867058 -14.2426 -14.242603529598123 4.132172328165077e-06\n",
      "123.0459 123.04590214867058 -14.2426 -14.242603529598123 4.132172328165077e-06\n",
      "123.0459 123.04590214867058 -14.2426 -14.242603529598123 4.132172328165077e-06\n",
      "123.0459 123.04590214867058 -14.2426 -14.242603529598123 4.132172328165077e-06\n",
      "123.0459 123.04590214867058 -14.2426 -14.242603529598123 4.132172328165077e-06\n",
      "123.0459 123.04590214867058 -14.2426 -14.242603529598123 4.132172328165077e-06\n",
      "123.0459 123.04590214867058 -14.2426 -14.242603529598123 4.132172328165077e-06\n",
      "123.0459 123.04590214867058 -14.2426 -14.242603529598123 4.132172328165077e-06\n"
     ]
    },
    {
     "name": "stdout",
     "output_type": "stream",
     "text": [
      "123.0459 123.04590214867058 -14.2426 -14.242603529598123 4.132172328165077e-06\n",
      "123.0459 123.04590214867058 -14.2426 -14.242603529598123 4.132172328165077e-06\n",
      "123.0459 123.04590214867058 -14.2426 -14.242603529598123 4.132172328165077e-06\n",
      "123.0459 123.04590214867058 -14.2426 -14.242603529598123 4.132172328165077e-06\n",
      "123.0459 123.04590214867058 -14.2426 -14.242603529598123 4.132172328165077e-06\n",
      "123.0459 123.04590214867058 -14.2426 -14.242603529598123 4.132172328165077e-06\n",
      "123.0459 123.04590214867058 -14.2426 -14.242603529598123 4.132172328165077e-06\n",
      "123.0459 123.04590214867058 -14.2426 -14.242603529598123 4.132172328165077e-06\n",
      "123.0459 123.04590214867058 -14.2426 -14.242603529598123 4.132172328165077e-06\n",
      "123.0459 123.04590214867058 -14.2426 -14.242603529598123 4.132172328165077e-06\n",
      "123.0459 123.04590214867058 -14.2426 -14.242603529598123 4.132172328165077e-06\n",
      "123.0459 123.04590214867058 -14.2426 -14.242603529598123 4.132172328165077e-06\n",
      "123.0459 123.04590214867058 -14.2426 -14.242603529598123 4.132172328165077e-06\n",
      "123.0459 123.04590214867058 -14.2426 -14.242603529598123 4.132172328165077e-06\n",
      "123.0459 123.04590214867058 -14.2426 -14.242603529598123 4.132172328165077e-06\n",
      "123.0459 123.04590214867058 -14.2426 -14.242603529598123 4.132172328165077e-06\n",
      "123.0459 123.04590214867058 -14.2426 -14.242603529598123 4.132172328165077e-06\n",
      "123.0459 123.04590214867058 -14.2426 -14.242603529598123 4.132172328165077e-06\n",
      "123.0459 123.04590214867058 -14.2426 -14.242603529598123 4.132172328165077e-06\n",
      "123.0459 123.04590214867058 -14.2426 -14.242603529598123 4.132172328165077e-06\n",
      "123.0459 123.04590214867058 -14.2426 -14.242603529598123 4.132172328165077e-06\n",
      "123.0459 123.04590214867058 -14.2426 -14.242603529598123 4.132172328165077e-06\n",
      "123.0459 123.04590214867058 -14.2426 -14.242603529598123 4.132172328165077e-06\n",
      "123.0459 123.04590214867058 -14.2426 -14.242603529598123 4.132172328165077e-06\n",
      "123.0459 123.04590214867058 -14.2426 -14.242603529598123 4.132172328165077e-06\n",
      "123.0459 123.04590214867058 -14.2426 -14.242603529598123 4.132172328165077e-06\n",
      "123.0459 123.04590214867058 -14.2426 -14.242603529598123 4.132172328165077e-06\n",
      "123.0459 123.04590214867058 -14.2426 -14.242603529598123 4.132172328165077e-06\n",
      "123.0459 123.04590214867058 -14.2426 -14.242603529598123 4.132172328165077e-06\n",
      "123.0459 123.04590214867058 -14.2426 -14.242603529598123 4.132172328165077e-06\n",
      "123.0459 123.04590214867058 -14.2426 -14.242603529598123 4.132172328165077e-06\n",
      "123.0459 123.04590214867058 -14.2426 -14.242603529598123 4.132172328165077e-06\n",
      "123.0459 123.04590214867058 -14.2426 -14.242603529598123 4.132172328165077e-06\n",
      "123.0459 123.04590214867058 -14.2426 -14.242603529598123 4.132172328165077e-06\n",
      "123.0459 123.04590214867058 -14.2426 -14.242603529598123 4.132172328165077e-06\n",
      "123.0459 123.04590214867058 -14.2426 -14.242603529598123 4.132172328165077e-06\n",
      "123.0459 123.04590214867058 -14.2426 -14.242603529598123 4.132172328165077e-06\n",
      "123.0459 123.04590214867058 -14.2426 -14.242603529598123 4.132172328165077e-06\n",
      "123.0459 123.04590214867058 -14.2426 -14.242603529598123 4.132172328165077e-06\n",
      "123.0459 123.04590214867058 -14.2426 -14.242603529598123 4.132172328165077e-06\n",
      "123.0459 123.04590214867058 -14.2426 -14.242603529598123 4.132172328165077e-06\n",
      "123.0459 123.04590214867058 -14.2426 -14.242603529598123 4.132172328165077e-06\n",
      "123.0459 123.04590214867058 -14.2426 -14.242603529598123 4.132172328165077e-06\n",
      "123.0459 123.04590214867058 -14.2426 -14.242603529598123 4.132172328165077e-06\n",
      "123.0459 123.04590214867058 -14.2426 -14.242603529598123 4.132172328165077e-06\n",
      "123.0459 123.04590214867058 -14.2426 -14.242603529598123 4.132172328165077e-06\n",
      "123.0459 123.04590214867058 -14.2426 -14.242603529598123 4.132172328165077e-06\n",
      "123.0459 123.04590214867058 -14.2426 -14.242603529598123 4.132172328165077e-06\n",
      "123.0459 123.04590214867058 -14.2426 -14.242603529598123 4.132172328165077e-06\n",
      "123.0459 123.04590214867058 -14.2426 -14.242603529598123 4.132172328165077e-06\n",
      "123.0459 123.04590214867058 -14.2426 -14.242603529598123 4.132172328165077e-06\n",
      "123.0459 123.04590214867058 -14.2426 -14.242603529598123 4.132172328165077e-06\n",
      "123.0459 123.04590214867058 -14.2426 -14.242603529598123 4.132172328165077e-06\n",
      "123.0459 123.04590214867058 -14.2426 -14.242603529598123 4.132172328165077e-06\n",
      "123.0459 123.04590214867058 -14.2426 -14.242603529598123 4.132172328165077e-06\n",
      "123.0459 123.04590214867058 -14.2426 -14.242603529598123 4.132172328165077e-06\n",
      "123.0459 123.04590214867058 -14.2426 -14.242603529598123 4.132172328165077e-06\n",
      "123.0459 123.04590214867058 -14.2426 -14.242603529598123 4.132172328165077e-06\n",
      "123.0459 123.04590214867058 -14.2426 -14.242603529598123 4.132172328165077e-06\n",
      "123.0459 123.04590214867058 -14.2426 -14.242603529598123 4.132172328165077e-06\n",
      "123.0459 123.04590214867058 -14.2426 -14.242603529598123 4.132172328165077e-06\n",
      "123.0459 123.04590214867058 -14.2426 -14.242603529598123 4.132172328165077e-06\n",
      "123.0459 123.04590214867058 -14.2426 -14.242603529598123 4.132172328165077e-06\n",
      "123.0459 123.04590214867058 -14.2426 -14.242603529598123 4.132172328165077e-06\n",
      "123.0459 123.04590214867058 -14.2426 -14.242603529598123 4.132172328165077e-06\n",
      "123.0459 123.04590214867058 -14.2426 -14.242603529598123 4.132172328165077e-06\n",
      "123.0459 123.04590214867058 -14.2426 -14.242603529598123 4.132172328165077e-06\n",
      "123.0459 123.04590214867058 -14.2426 -14.242603529598123 4.132172328165077e-06\n",
      "123.0459 123.04590214867058 -14.2426 -14.242603529598123 4.132172328165077e-06\n",
      "123.0459 123.04590214867058 -14.2426 -14.242603529598123 4.132172328165077e-06\n",
      "../DATA/ROMS_NL_station_BRB200.nc\n"
     ]
    }
   ],
   "source": [
    "sitename = 'BRB200'\n",
    "outfile = '../DATA/ROMS_4DVAR_station_{}.nc'.format(sitename)\n",
    "T = load_station(get_roms_station_da, roms4dvarfiles, sitename,'temp')\n",
    "u = load_station(get_roms_station_da, roms4dvarfiles, sitename,'u_eastward')\n",
    "v = load_station(get_roms_station_da, roms4dvarfiles, sitename,'v_northward')\n",
    "xr.Dataset({'temp':T,'u_eastward':u,'v_northward':v}).to_netcdf(outfile)\n",
    "print(outfile)\n",
    "\n",
    "outfile = '../DATA/ROMS_NL_station_{}.nc'.format(sitename)\n",
    "T = load_station(get_roms_station, romsfiles, sitename,'temp')\n",
    "u = load_station(get_roms_station, romsfiles, sitename,'u_eastward')\n",
    "v = load_station(get_roms_station, romsfiles, sitename,'v_northward')\n",
    "xr.Dataset({'temp':T,'u_eastward':u,'v_northward':v}).to_netcdf(outfile)\n",
    "print(outfile)"
   ]
  },
  {
   "cell_type": "code",
   "execution_count": null,
   "metadata": {},
   "outputs": [],
   "source": []
  }
 ],
 "metadata": {
  "kernelspec": {
   "display_name": "Python 3",
   "language": "python",
   "name": "python3"
  },
  "language_info": {
   "codemirror_mode": {
    "name": "ipython",
    "version": 3
   },
   "file_extension": ".py",
   "mimetype": "text/x-python",
   "name": "python",
   "nbconvert_exporter": "python",
   "pygments_lexer": "ipython3",
   "version": "3.7.6"
  }
 },
 "nbformat": 4,
 "nbformat_minor": 4
}
